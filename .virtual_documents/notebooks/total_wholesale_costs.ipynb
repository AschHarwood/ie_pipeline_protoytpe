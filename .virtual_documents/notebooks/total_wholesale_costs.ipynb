import pandas as pd


wholesale_costs = pd.read_csv('~/pipeline_mvp/data/wholesale_cost.csv')


wholesale_costs = wholesale_costs.set_index('item')


item_count = pd.read_csv('~/pipeline_mvp/data/item_count.csv')


item_count


item_count = item_count.set_index('item')


whole_count = pd.concat([item_count, wholesale_costs], axis=1)


whole_count


whole_count['total_cost'] = whole_count['value'] * whole_count['wholesale_cost_per_item']


whole_count.to_csv('total_cost.csv')



