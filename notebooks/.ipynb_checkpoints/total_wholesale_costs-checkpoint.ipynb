{
 "cells": [
  {
   "cell_type": "code",
   "execution_count": 1,
   "id": "a085c8f9-d322-4932-8656-32ab4fa08603",
   "metadata": {},
   "outputs": [],
   "source": [
    "import pandas as pd"
   ]
  },
  {
   "cell_type": "code",
   "execution_count": 2,
   "id": "f2a0f576-1137-4550-99c1-1de24c65b8ef",
   "metadata": {},
   "outputs": [],
   "source": [
    "wholesale_costs = pd.read_csv('~/pipeline_mvp/data/wholesale_cost.csv')"
   ]
  },
  {
   "cell_type": "code",
   "execution_count": 12,
   "id": "4693e4e8-b31c-48e8-a133-5edf22979b72",
   "metadata": {},
   "outputs": [],
   "source": [
    "wholesale_costs = wholesale_costs.set_index('item')"
   ]
  },
  {
   "cell_type": "code",
   "execution_count": 4,
   "id": "914329b0-a9f7-4753-9c1d-f55fdd428e5e",
   "metadata": {},
   "outputs": [],
   "source": [
    "item_count = pd.read_csv('~/pipeline_mvp/data/item_count.csv')"
   ]
  },
  {
   "cell_type": "code",
   "execution_count": 7,
   "id": "d2b34320-f95b-4497-a7ae-9d9da6097347",
   "metadata": {},
   "outputs": [
    {
     "data": {
      "text/html": [
       "<div>\n",
       "<style scoped>\n",
       "    .dataframe tbody tr th:only-of-type {\n",
       "        vertical-align: middle;\n",
       "    }\n",
       "\n",
       "    .dataframe tbody tr th {\n",
       "        vertical-align: top;\n",
       "    }\n",
       "\n",
       "    .dataframe thead th {\n",
       "        text-align: right;\n",
       "    }\n",
       "</style>\n",
       "<table border=\"1\" class=\"dataframe\">\n",
       "  <thead>\n",
       "    <tr style=\"text-align: right;\">\n",
       "      <th></th>\n",
       "      <th>item</th>\n",
       "      <th>value</th>\n",
       "    </tr>\n",
       "  </thead>\n",
       "  <tbody>\n",
       "    <tr>\n",
       "      <th>0</th>\n",
       "      <td>chairs</td>\n",
       "      <td>200</td>\n",
       "    </tr>\n",
       "    <tr>\n",
       "      <th>1</th>\n",
       "      <td>benches</td>\n",
       "      <td>100</td>\n",
       "    </tr>\n",
       "    <tr>\n",
       "      <th>2</th>\n",
       "      <td>table</td>\n",
       "      <td>500</td>\n",
       "    </tr>\n",
       "    <tr>\n",
       "      <th>3</th>\n",
       "      <td>shoes</td>\n",
       "      <td>100</td>\n",
       "    </tr>\n",
       "  </tbody>\n",
       "</table>\n",
       "</div>"
      ],
      "text/plain": [
       "      item  value\n",
       "0   chairs    200\n",
       "1  benches    100\n",
       "2    table    500\n",
       "3    shoes    100"
      ]
     },
     "execution_count": 7,
     "metadata": {},
     "output_type": "execute_result"
    }
   ],
   "source": [
    "item_count"
   ]
  },
  {
   "cell_type": "code",
   "execution_count": 8,
   "id": "11d738ef-8d72-4c4a-bdae-51f97e0023ec",
   "metadata": {},
   "outputs": [],
   "source": [
    "item_count = item_count.set_index('item')"
   ]
  },
  {
   "cell_type": "code",
   "execution_count": 14,
   "id": "665d7226-5947-476a-b2e5-90636f1f9585",
   "metadata": {},
   "outputs": [],
   "source": [
    "whole_count = pd.concat([item_count, wholesale_costs], axis=1)"
   ]
  },
  {
   "cell_type": "code",
   "execution_count": 15,
   "id": "99043473-9cd6-44fb-af1c-43e031d8033b",
   "metadata": {},
   "outputs": [
    {
     "data": {
      "text/html": [
       "<div>\n",
       "<style scoped>\n",
       "    .dataframe tbody tr th:only-of-type {\n",
       "        vertical-align: middle;\n",
       "    }\n",
       "\n",
       "    .dataframe tbody tr th {\n",
       "        vertical-align: top;\n",
       "    }\n",
       "\n",
       "    .dataframe thead th {\n",
       "        text-align: right;\n",
       "    }\n",
       "</style>\n",
       "<table border=\"1\" class=\"dataframe\">\n",
       "  <thead>\n",
       "    <tr style=\"text-align: right;\">\n",
       "      <th></th>\n",
       "      <th>value</th>\n",
       "      <th>wholesale_cost_per_item</th>\n",
       "    </tr>\n",
       "    <tr>\n",
       "      <th>item</th>\n",
       "      <th></th>\n",
       "      <th></th>\n",
       "    </tr>\n",
       "  </thead>\n",
       "  <tbody>\n",
       "    <tr>\n",
       "      <th>chairs</th>\n",
       "      <td>200</td>\n",
       "      <td>50</td>\n",
       "    </tr>\n",
       "    <tr>\n",
       "      <th>benches</th>\n",
       "      <td>100</td>\n",
       "      <td>125</td>\n",
       "    </tr>\n",
       "    <tr>\n",
       "      <th>table</th>\n",
       "      <td>500</td>\n",
       "      <td>250</td>\n",
       "    </tr>\n",
       "    <tr>\n",
       "      <th>shoes</th>\n",
       "      <td>100</td>\n",
       "      <td>25</td>\n",
       "    </tr>\n",
       "  </tbody>\n",
       "</table>\n",
       "</div>"
      ],
      "text/plain": [
       "         value  wholesale_cost_per_item\n",
       "item                                   \n",
       "chairs     200                       50\n",
       "benches    100                      125\n",
       "table      500                      250\n",
       "shoes      100                       25"
      ]
     },
     "execution_count": 15,
     "metadata": {},
     "output_type": "execute_result"
    }
   ],
   "source": [
    "whole_count"
   ]
  },
  {
   "cell_type": "code",
   "execution_count": 16,
   "id": "bf026ce0-7114-4270-aadf-f5f5623daebd",
   "metadata": {},
   "outputs": [],
   "source": [
    "whole_count['total_cost'] = whole_count['value'] * whole_count['wholesale_cost_per_item']"
   ]
  },
  {
   "cell_type": "code",
   "execution_count": 18,
   "id": "211ad4b9-909a-4801-a813-33c252a31f65",
   "metadata": {},
   "outputs": [],
   "source": [
    "whole_count.to_csv('~/pipeline_mvp/data/total_cost.csv')"
   ]
  },
  {
   "cell_type": "code",
   "execution_count": null,
   "id": "0ef47a5d-35ed-4d4f-9101-bc9048c053f0",
   "metadata": {},
   "outputs": [],
   "source": []
  }
 ],
 "metadata": {
  "jupytext": {
   "formats": "ipynb,auto:light"
  },
  "kernelspec": {
   "display_name": "Python 3 (ipykernel)",
   "language": "python",
   "name": "python3"
  },
  "language_info": {
   "codemirror_mode": {
    "name": "ipython",
    "version": 3
   },
   "file_extension": ".py",
   "mimetype": "text/x-python",
   "name": "python",
   "nbconvert_exporter": "python",
   "pygments_lexer": "ipython3",
   "version": "3.9.11"
  }
 },
 "nbformat": 4,
 "nbformat_minor": 5
}
