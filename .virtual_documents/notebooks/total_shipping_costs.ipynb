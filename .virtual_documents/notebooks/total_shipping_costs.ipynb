import pandas as pd


item_weight = pd.read_csv('~/pipeline_mvp/data/item_weight.csv')


item_weight = item_weight.set_index('item')


item_count = pd.read_csv('~/pipeline_mvp/data/item_count.csv')


item_count = item_count.set_index('item')


shipping_cost = pd.read_csv('~/pipeline_mvp/data/shipping_cost_per_lb.csv')


shipping_cost = shipping_cost.set_index('item')


shipping_cost


ship_weight_count = pd.concat([item_count, item_weight, shipping_cost], axis=1)


ship_weight_count.multiply()


ship_weight_count['ship_cost'] = ship_weight_count.iloc[:, 0] * ship_weight_count.iloc[:, 1] * ship_weight_count.iloc[:, 2]


ship_weight_count.to_csv('shipping_cost.csv')



