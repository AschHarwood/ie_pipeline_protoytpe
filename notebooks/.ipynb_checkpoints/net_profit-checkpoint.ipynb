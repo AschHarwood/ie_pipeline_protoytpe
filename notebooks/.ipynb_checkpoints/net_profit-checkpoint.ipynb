{
 "cells": [
  {
   "cell_type": "code",
   "execution_count": 1,
   "id": "db2a4c0c-9a59-4a1f-a63f-5bfc4654c7c5",
   "metadata": {},
   "outputs": [],
   "source": [
    "import pandas as pd"
   ]
  },
  {
   "cell_type": "code",
   "execution_count": 2,
   "id": "8292ae7b-c37c-4744-9ff8-ff87ce776c48",
   "metadata": {},
   "outputs": [],
   "source": [
    "total_retail_sales = pd.read_csv('~/pipeline_mvp/data/total_retail_sales.csv')"
   ]
  },
  {
   "cell_type": "code",
   "execution_count": 4,
   "id": "0b22c657-d41d-4863-a0d7-4032a6ccfd79",
   "metadata": {},
   "outputs": [],
   "source": [
    "total_retail_sales = total_retail_sales.set_index('item')"
   ]
  },
  {
   "cell_type": "code",
   "execution_count": 5,
   "id": "cabcb57c-f1dd-4167-a4fb-d56939bf08eb",
   "metadata": {},
   "outputs": [],
   "source": [
    "total_cost = pd.read_csv('~/pipeline_mvp/data/total_cost.csv')"
   ]
  },
  {
   "cell_type": "code",
   "execution_count": 7,
   "id": "21b893b5-7ece-4f27-8b70-e94faeb75c4d",
   "metadata": {},
   "outputs": [],
   "source": [
    "total_cost = total_cost.set_index('item')"
   ]
  },
  {
   "cell_type": "code",
   "execution_count": 10,
   "id": "9641f3a7-8436-47c9-8f95-45672e868c1d",
   "metadata": {},
   "outputs": [
    {
     "data": {
      "text/html": [
       "<div>\n",
       "<style scoped>\n",
       "    .dataframe tbody tr th:only-of-type {\n",
       "        vertical-align: middle;\n",
       "    }\n",
       "\n",
       "    .dataframe tbody tr th {\n",
       "        vertical-align: top;\n",
       "    }\n",
       "\n",
       "    .dataframe thead th {\n",
       "        text-align: right;\n",
       "    }\n",
       "</style>\n",
       "<table border=\"1\" class=\"dataframe\">\n",
       "  <thead>\n",
       "    <tr style=\"text-align: right;\">\n",
       "      <th></th>\n",
       "      <th>value</th>\n",
       "      <th>wholesale_cost_per_item</th>\n",
       "      <th>total_cost</th>\n",
       "    </tr>\n",
       "    <tr>\n",
       "      <th>item</th>\n",
       "      <th></th>\n",
       "      <th></th>\n",
       "      <th></th>\n",
       "    </tr>\n",
       "  </thead>\n",
       "  <tbody>\n",
       "    <tr>\n",
       "      <th>chairs</th>\n",
       "      <td>200</td>\n",
       "      <td>50</td>\n",
       "      <td>10000</td>\n",
       "    </tr>\n",
       "    <tr>\n",
       "      <th>benches</th>\n",
       "      <td>100</td>\n",
       "      <td>125</td>\n",
       "      <td>12500</td>\n",
       "    </tr>\n",
       "    <tr>\n",
       "      <th>table</th>\n",
       "      <td>500</td>\n",
       "      <td>250</td>\n",
       "      <td>125000</td>\n",
       "    </tr>\n",
       "    <tr>\n",
       "      <th>shoes</th>\n",
       "      <td>100</td>\n",
       "      <td>25</td>\n",
       "      <td>2500</td>\n",
       "    </tr>\n",
       "  </tbody>\n",
       "</table>\n",
       "</div>"
      ],
      "text/plain": [
       "         value  wholesale_cost_per_item  total_cost\n",
       "item                                               \n",
       "chairs     200                       50       10000\n",
       "benches    100                      125       12500\n",
       "table      500                      250      125000\n",
       "shoes      100                       25        2500"
      ]
     },
     "execution_count": 10,
     "metadata": {},
     "output_type": "execute_result"
    }
   ],
   "source": [
    "total_cost"
   ]
  },
  {
   "cell_type": "code",
   "execution_count": 12,
   "id": "644e2347-e5f7-4b03-9040-6ef4adbef8b9",
   "metadata": {},
   "outputs": [
    {
     "data": {
      "text/html": [
       "<div>\n",
       "<style scoped>\n",
       "    .dataframe tbody tr th:only-of-type {\n",
       "        vertical-align: middle;\n",
       "    }\n",
       "\n",
       "    .dataframe tbody tr th {\n",
       "        vertical-align: top;\n",
       "    }\n",
       "\n",
       "    .dataframe thead th {\n",
       "        text-align: right;\n",
       "    }\n",
       "</style>\n",
       "<table border=\"1\" class=\"dataframe\">\n",
       "  <thead>\n",
       "    <tr style=\"text-align: right;\">\n",
       "      <th></th>\n",
       "      <th>retail_cost_per_item</th>\n",
       "      <th>value</th>\n",
       "      <th>total_sales</th>\n",
       "    </tr>\n",
       "    <tr>\n",
       "      <th>item</th>\n",
       "      <th></th>\n",
       "      <th></th>\n",
       "      <th></th>\n",
       "    </tr>\n",
       "  </thead>\n",
       "  <tbody>\n",
       "    <tr>\n",
       "      <th>chairs</th>\n",
       "      <td>100</td>\n",
       "      <td>200</td>\n",
       "      <td>20000</td>\n",
       "    </tr>\n",
       "    <tr>\n",
       "      <th>benches</th>\n",
       "      <td>250</td>\n",
       "      <td>100</td>\n",
       "      <td>25000</td>\n",
       "    </tr>\n",
       "    <tr>\n",
       "      <th>table</th>\n",
       "      <td>500</td>\n",
       "      <td>500</td>\n",
       "      <td>250000</td>\n",
       "    </tr>\n",
       "    <tr>\n",
       "      <th>shoes</th>\n",
       "      <td>50</td>\n",
       "      <td>100</td>\n",
       "      <td>5000</td>\n",
       "    </tr>\n",
       "  </tbody>\n",
       "</table>\n",
       "</div>"
      ],
      "text/plain": [
       "         retail_cost_per_item  value  total_sales\n",
       "item                                             \n",
       "chairs                    100    200        20000\n",
       "benches                   250    100        25000\n",
       "table                     500    500       250000\n",
       "shoes                      50    100         5000"
      ]
     },
     "execution_count": 12,
     "metadata": {},
     "output_type": "execute_result"
    }
   ],
   "source": [
    "total_retail_sales"
   ]
  },
  {
   "cell_type": "code",
   "execution_count": 13,
   "id": "b063fa37-3d97-4dea-bc9e-b6e04b7587af",
   "metadata": {},
   "outputs": [],
   "source": [
    "net_profit = total_retail_sales.total_sales - total_cost.total_cost"
   ]
  },
  {
   "cell_type": "code",
   "execution_count": 14,
   "id": "140046d8-bb13-431b-8a9b-41cda7c94960",
   "metadata": {},
   "outputs": [],
   "source": [
    "net_profit.to_csv('~/pipeline_mvp/data/net_profit.csv')"
   ]
  },
  {
   "cell_type": "code",
   "execution_count": null,
   "id": "b65f8226-51da-4a3a-9b71-69092d63b2df",
   "metadata": {},
   "outputs": [],
   "source": []
  }
 ],
 "metadata": {
  "jupytext": {
   "formats": "ipynb,auto:light"
  },
  "kernelspec": {
   "display_name": "Python 3 (ipykernel)",
   "language": "python",
   "name": "python3"
  },
  "language_info": {
   "codemirror_mode": {
    "name": "ipython",
    "version": 3
   },
   "file_extension": ".py",
   "mimetype": "text/x-python",
   "name": "python",
   "nbconvert_exporter": "python",
   "pygments_lexer": "ipython3",
   "version": "3.9.11"
  }
 },
 "nbformat": 4,
 "nbformat_minor": 5
}
