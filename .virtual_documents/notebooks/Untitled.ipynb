get_ipython().getoutput("python total_costs_shipping_wholesale.py")



