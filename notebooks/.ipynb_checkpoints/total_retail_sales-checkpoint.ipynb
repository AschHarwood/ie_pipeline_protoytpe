{
 "cells": [
  {
   "cell_type": "code",
   "execution_count": 1,
   "id": "c03d3700-185b-4b15-bb4c-3a01b461a02e",
   "metadata": {},
   "outputs": [],
   "source": [
    "import pandas as pd"
   ]
  },
  {
   "cell_type": "code",
   "execution_count": 5,
   "id": "7e12abe5-8ef6-4d33-a7f8-e5c4f34ca8ca",
   "metadata": {},
   "outputs": [],
   "source": [
    "item_count = pd.read_csv('~/pipeline_mvp/data/item_count.csv')"
   ]
  },
  {
   "cell_type": "code",
   "execution_count": 10,
   "id": "4db4201c-025c-49b6-97aa-1201beba0489",
   "metadata": {},
   "outputs": [],
   "source": [
    "item_count = item_count.set_index('item')"
   ]
  },
  {
   "cell_type": "code",
   "execution_count": 7,
   "id": "b30ec0b1-0900-4d4f-ae4a-6528794313f1",
   "metadata": {},
   "outputs": [],
   "source": [
    "retail_cost = pd.read_csv('~/pipeline_mvp/data/retail_cost_per_item.csv')"
   ]
  },
  {
   "cell_type": "code",
   "execution_count": 12,
   "id": "d4ad0928-919e-42a9-8e80-436d7da84589",
   "metadata": {},
   "outputs": [],
   "source": [
    "retail_cost = retail_cost.set_index('item')"
   ]
  },
  {
   "cell_type": "code",
   "execution_count": 14,
   "id": "04fc0705-8648-40a1-b47f-bb7ed0179317",
   "metadata": {},
   "outputs": [
    {
     "data": {
      "text/html": [
       "<div>\n",
       "<style scoped>\n",
       "    .dataframe tbody tr th:only-of-type {\n",
       "        vertical-align: middle;\n",
       "    }\n",
       "\n",
       "    .dataframe tbody tr th {\n",
       "        vertical-align: top;\n",
       "    }\n",
       "\n",
       "    .dataframe thead th {\n",
       "        text-align: right;\n",
       "    }\n",
       "</style>\n",
       "<table border=\"1\" class=\"dataframe\">\n",
       "  <thead>\n",
       "    <tr style=\"text-align: right;\">\n",
       "      <th></th>\n",
       "      <th>retail_cost_per_item</th>\n",
       "    </tr>\n",
       "    <tr>\n",
       "      <th>item</th>\n",
       "      <th></th>\n",
       "    </tr>\n",
       "  </thead>\n",
       "  <tbody>\n",
       "    <tr>\n",
       "      <th>chairs</th>\n",
       "      <td>100</td>\n",
       "    </tr>\n",
       "    <tr>\n",
       "      <th>benches</th>\n",
       "      <td>250</td>\n",
       "    </tr>\n",
       "    <tr>\n",
       "      <th>table</th>\n",
       "      <td>500</td>\n",
       "    </tr>\n",
       "    <tr>\n",
       "      <th>shoes</th>\n",
       "      <td>50</td>\n",
       "    </tr>\n",
       "  </tbody>\n",
       "</table>\n",
       "</div>"
      ],
      "text/plain": [
       "         retail_cost_per_item\n",
       "item                         \n",
       "chairs                    100\n",
       "benches                   250\n",
       "table                     500\n",
       "shoes                      50"
      ]
     },
     "execution_count": 14,
     "metadata": {},
     "output_type": "execute_result"
    }
   ],
   "source": []
  },
  {
   "cell_type": "code",
   "execution_count": 17,
   "id": "ad334cf5-4142-4bde-8b21-cc281cd95acc",
   "metadata": {},
   "outputs": [],
   "source": [
    "count_cost = pd.concat([retail_cost, item_count], axis=1)"
   ]
  },
  {
   "cell_type": "code",
   "execution_count": 19,
   "id": "20b28720-0cfb-478e-9165-0435ad70a367",
   "metadata": {},
   "outputs": [
    {
     "data": {
      "text/plain": [
       "item\n",
       "chairs      20000\n",
       "benches     25000\n",
       "table      250000\n",
       "shoes        5000\n",
       "dtype: int64"
      ]
     },
     "execution_count": 19,
     "metadata": {},
     "output_type": "execute_result"
    }
   ],
   "source": [
    "count_cost['retail_cost_per_item'] * count_cost['value']"
   ]
  },
  {
   "cell_type": "code",
   "execution_count": 20,
   "id": "ca07d873-f58f-4dcd-ad4c-4ab535806340",
   "metadata": {},
   "outputs": [],
   "source": [
    "count_cost['total_sales'] = count_cost['retail_cost_per_item'] * count_cost['value']"
   ]
  },
  {
   "cell_type": "code",
   "execution_count": 23,
   "id": "5d618f86-c575-4e81-b908-d4a8bfa12856",
   "metadata": {},
   "outputs": [],
   "source": [
    "count_cost.to_csv('~/pipeline_mvp/data/total_retail_sales.csv')"
   ]
  },
  {
   "cell_type": "code",
   "execution_count": null,
   "id": "c0250ed3-58ce-43ca-979f-ad3459979f93",
   "metadata": {},
   "outputs": [],
   "source": []
  }
 ],
 "metadata": {
  "jupytext": {
   "formats": "ipynb,auto:light"
  },
  "kernelspec": {
   "display_name": "Python 3 (ipykernel)",
   "language": "python",
   "name": "python3"
  },
  "language_info": {
   "codemirror_mode": {
    "name": "ipython",
    "version": 3
   },
   "file_extension": ".py",
   "mimetype": "text/x-python",
   "name": "python",
   "nbconvert_exporter": "python",
   "pygments_lexer": "ipython3",
   "version": "3.9.11"
  }
 },
 "nbformat": 4,
 "nbformat_minor": 5
}
