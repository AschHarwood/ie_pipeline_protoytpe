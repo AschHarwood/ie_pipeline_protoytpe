import pandas as pd


total_wholesale_cost = pd.read_csv('~/pipeline_mvp/data/total_cost.csv')


total_wholesale_cost = total_wholesale_cost.set_index('item')


shipping_cost = pd.read_csv('~/pipeline_mvp/data/shipping_cost.csv')


shipping_cost = shipping_cost.set_index('item')


total_cost = total_wholesale_cost['total_cost'] + shipping_cost['ship_cost']


shipping_cost


total_cost.to_csv('total_item_cost.csv')



