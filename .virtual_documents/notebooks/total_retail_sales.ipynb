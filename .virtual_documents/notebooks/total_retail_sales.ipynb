import pandas as pd


item_count = pd.read_csv('~/pipeline_mvp/data/item_count.csv')


item_count = item_count.set_index('item')


retail_cost = pd.read_csv('~/pipeline_mvp/data/retail_cost_per_item.csv')


retail_cost = retail_cost.set_index('item')





count_cost = pd.concat([retail_cost, item_count], axis=1)


count_cost['retail_cost_per_item'] * count_cost['value']


count_cost['total_sales'] = count_cost['retail_cost_per_item'] * count_cost['value']


count_cost.to_csv('~/pipeline_mvp/data/total_retail_sales.csv')



