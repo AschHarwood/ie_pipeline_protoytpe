{
 "cells": [
  {
   "cell_type": "code",
   "execution_count": 1,
   "id": "bd61bc06-ab04-4911-ac78-af8603e2ba40",
   "metadata": {},
   "outputs": [],
   "source": [
    "import pandas as pd"
   ]
  },
  {
   "cell_type": "code",
   "execution_count": 2,
   "id": "ef55e60f-4854-4bd8-b701-341e80b0d2e7",
   "metadata": {},
   "outputs": [],
   "source": [
    "total_wholesale_cost = pd.read_csv('~/pipeline_mvp/data/total_cost.csv')"
   ]
  },
  {
   "cell_type": "code",
   "execution_count": 6,
   "id": "d2a93de9-daa1-41df-a7ad-9282b5a27952",
   "metadata": {},
   "outputs": [],
   "source": [
    "total_wholesale_cost = total_wholesale_cost.set_index('item')"
   ]
  },
  {
   "cell_type": "code",
   "execution_count": 4,
   "id": "1a36169f-9ca1-4fb7-bdca-dbd8bee1d87b",
   "metadata": {},
   "outputs": [],
   "source": [
    "shipping_cost = pd.read_csv('~/pipeline_mvp/data/shipping_cost.csv')"
   ]
  },
  {
   "cell_type": "code",
   "execution_count": 7,
   "id": "889c95d5-000c-4c8f-8864-295f4f30a11a",
   "metadata": {},
   "outputs": [],
   "source": [
    "shipping_cost = shipping_cost.set_index('item')"
   ]
  },
  {
   "cell_type": "code",
   "execution_count": 11,
   "id": "04d59eed-29c1-4414-8a32-ac6ed4eafaeb",
   "metadata": {},
   "outputs": [],
   "source": [
    "total_cost = total_wholesale_cost['total_cost'] + shipping_cost['ship_cost']"
   ]
  },
  {
   "cell_type": "code",
   "execution_count": 10,
   "id": "e5cdbc18-fe4b-477e-9510-5a9dcf696e19",
   "metadata": {},
   "outputs": [
    {
     "data": {
      "text/html": [
       "<div>\n",
       "<style scoped>\n",
       "    .dataframe tbody tr th:only-of-type {\n",
       "        vertical-align: middle;\n",
       "    }\n",
       "\n",
       "    .dataframe tbody tr th {\n",
       "        vertical-align: top;\n",
       "    }\n",
       "\n",
       "    .dataframe thead th {\n",
       "        text-align: right;\n",
       "    }\n",
       "</style>\n",
       "<table border=\"1\" class=\"dataframe\">\n",
       "  <thead>\n",
       "    <tr style=\"text-align: right;\">\n",
       "      <th></th>\n",
       "      <th>value</th>\n",
       "      <th>weight</th>\n",
       "      <th>shipping_cost_per_lb</th>\n",
       "      <th>ship_cost</th>\n",
       "    </tr>\n",
       "    <tr>\n",
       "      <th>item</th>\n",
       "      <th></th>\n",
       "      <th></th>\n",
       "      <th></th>\n",
       "      <th></th>\n",
       "    </tr>\n",
       "  </thead>\n",
       "  <tbody>\n",
       "    <tr>\n",
       "      <th>chairs</th>\n",
       "      <td>200</td>\n",
       "      <td>21</td>\n",
       "      <td>5</td>\n",
       "      <td>21000</td>\n",
       "    </tr>\n",
       "    <tr>\n",
       "      <th>benches</th>\n",
       "      <td>100</td>\n",
       "      <td>30</td>\n",
       "      <td>5</td>\n",
       "      <td>15000</td>\n",
       "    </tr>\n",
       "    <tr>\n",
       "      <th>table</th>\n",
       "      <td>500</td>\n",
       "      <td>75</td>\n",
       "      <td>5</td>\n",
       "      <td>187500</td>\n",
       "    </tr>\n",
       "    <tr>\n",
       "      <th>shoes</th>\n",
       "      <td>100</td>\n",
       "      <td>1</td>\n",
       "      <td>5</td>\n",
       "      <td>500</td>\n",
       "    </tr>\n",
       "  </tbody>\n",
       "</table>\n",
       "</div>"
      ],
      "text/plain": [
       "         value  weight  shipping_cost_per_lb  ship_cost\n",
       "item                                                   \n",
       "chairs     200      21                     5      21000\n",
       "benches    100      30                     5      15000\n",
       "table      500      75                     5     187500\n",
       "shoes      100       1                     5        500"
      ]
     },
     "execution_count": 10,
     "metadata": {},
     "output_type": "execute_result"
    }
   ],
   "source": [
    "shipping_cost"
   ]
  },
  {
   "cell_type": "code",
   "execution_count": 13,
   "id": "1318d0ae-5722-46ed-b8e9-1496506fe302",
   "metadata": {},
   "outputs": [],
   "source": [
    "total_cost.to_csv('~/pipeline_mvp/data/total_item_cost.csv')"
   ]
  },
  {
   "cell_type": "code",
   "execution_count": null,
   "id": "68c2c859-8c5e-4e8a-91d3-be911c918da0",
   "metadata": {},
   "outputs": [],
   "source": []
  }
 ],
 "metadata": {
  "jupytext": {
   "formats": "ipynb,auto:light"
  },
  "kernelspec": {
   "display_name": "Python 3 (ipykernel)",
   "language": "python",
   "name": "python3"
  },
  "language_info": {
   "codemirror_mode": {
    "name": "ipython",
    "version": 3
   },
   "file_extension": ".py",
   "mimetype": "text/x-python",
   "name": "python",
   "nbconvert_exporter": "python",
   "pygments_lexer": "ipython3",
   "version": "3.9.11"
  }
 },
 "nbformat": 4,
 "nbformat_minor": 5
}
