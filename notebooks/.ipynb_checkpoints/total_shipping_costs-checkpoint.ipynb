{
 "cells": [
  {
   "cell_type": "code",
   "execution_count": 1,
   "id": "c524fe1c-a238-4ba3-981e-558b2ec29013",
   "metadata": {},
   "outputs": [],
   "source": [
    "import pandas as pd"
   ]
  },
  {
   "cell_type": "code",
   "execution_count": 3,
   "id": "4a200443-45d8-44ca-8441-ff44e9db1505",
   "metadata": {},
   "outputs": [],
   "source": [
    "item_weight = pd.read_csv('~/pipeline_mvp/data/item_weight.csv')"
   ]
  },
  {
   "cell_type": "code",
   "execution_count": 6,
   "id": "6bda594b-c8ec-4f4f-b4e1-3af82667d40e",
   "metadata": {},
   "outputs": [],
   "source": [
    "item_weight = item_weight.set_index('item')"
   ]
  },
  {
   "cell_type": "code",
   "execution_count": 7,
   "id": "5bfb5c54-c768-4ee6-b147-b456f6d90cf1",
   "metadata": {},
   "outputs": [],
   "source": [
    "item_count = pd.read_csv('~/pipeline_mvp/data/item_count.csv')"
   ]
  },
  {
   "cell_type": "code",
   "execution_count": 9,
   "id": "84f089fc-be97-493d-9e08-6045ed2560f6",
   "metadata": {},
   "outputs": [],
   "source": [
    "item_count = item_count.set_index('item')"
   ]
  },
  {
   "cell_type": "code",
   "execution_count": 10,
   "id": "f0c7c100-422c-44ae-aeaa-dfaf2b77986b",
   "metadata": {},
   "outputs": [],
   "source": [
    "shipping_cost = pd.read_csv('~/pipeline_mvp/data/shipping_cost_per_lb.csv')"
   ]
  },
  {
   "cell_type": "code",
   "execution_count": 12,
   "id": "5c9cf84a-d288-405c-9ca8-2d8962eff445",
   "metadata": {},
   "outputs": [],
   "source": [
    "shipping_cost = shipping_cost.set_index('item')"
   ]
  },
  {
   "cell_type": "code",
   "execution_count": 14,
   "id": "625bdd88-2e18-4997-bf4b-894bf8de86cd",
   "metadata": {},
   "outputs": [
    {
     "data": {
      "text/html": [
       "<div>\n",
       "<style scoped>\n",
       "    .dataframe tbody tr th:only-of-type {\n",
       "        vertical-align: middle;\n",
       "    }\n",
       "\n",
       "    .dataframe tbody tr th {\n",
       "        vertical-align: top;\n",
       "    }\n",
       "\n",
       "    .dataframe thead th {\n",
       "        text-align: right;\n",
       "    }\n",
       "</style>\n",
       "<table border=\"1\" class=\"dataframe\">\n",
       "  <thead>\n",
       "    <tr style=\"text-align: right;\">\n",
       "      <th></th>\n",
       "      <th>shipping_cost_per_lb</th>\n",
       "    </tr>\n",
       "    <tr>\n",
       "      <th>item</th>\n",
       "      <th></th>\n",
       "    </tr>\n",
       "  </thead>\n",
       "  <tbody>\n",
       "    <tr>\n",
       "      <th>chairs</th>\n",
       "      <td>5</td>\n",
       "    </tr>\n",
       "    <tr>\n",
       "      <th>benches</th>\n",
       "      <td>5</td>\n",
       "    </tr>\n",
       "    <tr>\n",
       "      <th>table</th>\n",
       "      <td>5</td>\n",
       "    </tr>\n",
       "    <tr>\n",
       "      <th>shoes</th>\n",
       "      <td>5</td>\n",
       "    </tr>\n",
       "  </tbody>\n",
       "</table>\n",
       "</div>"
      ],
      "text/plain": [
       "         shipping_cost_per_lb\n",
       "item                         \n",
       "chairs                      5\n",
       "benches                     5\n",
       "table                       5\n",
       "shoes                       5"
      ]
     },
     "execution_count": 14,
     "metadata": {},
     "output_type": "execute_result"
    }
   ],
   "source": [
    "shipping_cost"
   ]
  },
  {
   "cell_type": "code",
   "execution_count": 17,
   "id": "35eec389-8094-4297-8560-e5ba283089a3",
   "metadata": {},
   "outputs": [],
   "source": [
    "ship_weight_count = pd.concat([item_count, item_weight, shipping_cost], axis=1)"
   ]
  },
  {
   "cell_type": "code",
   "execution_count": 23,
   "id": "5f923220-ff37-4343-83c7-0b803f91b024",
   "metadata": {},
   "outputs": [],
   "source": [
    "ship_weight_count['ship_cost'] = ship_weight_count.iloc[:, 0] * ship_weight_count.iloc[:, 1] * ship_weight_count.iloc[:, 2]"
   ]
  },
  {
   "cell_type": "code",
   "execution_count": 25,
   "id": "c0f7f401-a07a-473f-b68d-a0625b4814b8",
   "metadata": {},
   "outputs": [],
   "source": [
    "ship_weight_count.to_csv('~/pipeline_mvp/data/shipping_cost.csv')"
   ]
  },
  {
   "cell_type": "code",
   "execution_count": null,
   "id": "61882a01-365b-4289-a501-1a8bfa5ec67d",
   "metadata": {},
   "outputs": [],
   "source": []
  }
 ],
 "metadata": {
  "jupytext": {
   "formats": "ipynb,auto:light"
  },
  "kernelspec": {
   "display_name": "Python 3 (ipykernel)",
   "language": "python",
   "name": "python3"
  },
  "language_info": {
   "codemirror_mode": {
    "name": "ipython",
    "version": 3
   },
   "file_extension": ".py",
   "mimetype": "text/x-python",
   "name": "python",
   "nbconvert_exporter": "python",
   "pygments_lexer": "ipython3",
   "version": "3.9.11"
  }
 },
 "nbformat": 4,
 "nbformat_minor": 5
}
