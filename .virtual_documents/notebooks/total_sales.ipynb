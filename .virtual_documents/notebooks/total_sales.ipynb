import pandas as pd


item_count = pd.read_csv('~/pipeline_mvp/data/item_count.csv')


item_count



